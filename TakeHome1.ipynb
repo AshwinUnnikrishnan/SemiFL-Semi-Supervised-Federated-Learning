{
  "nbformat": 4,
  "nbformat_minor": 0,
  "metadata": {
    "colab": {
      "provenance": [],
      "gpuType": "V100",
      "machine_shape": "hm",
      "authorship_tag": "ABX9TyPxSrrHTz/rd18uHM1vvKxa",
      "include_colab_link": true
    },
    "kernelspec": {
      "name": "python3",
      "display_name": "Python 3"
    },
    "language_info": {
      "name": "python"
    },
    "accelerator": "GPU"
  },
  "cells": [
    {
      "cell_type": "markdown",
      "metadata": {
        "id": "view-in-github",
        "colab_type": "text"
      },
      "source": [
        "<a href=\"https://colab.research.google.com/github/AshwinUnnikrishnan/SemiFL-Semi-Supervised-Federated-Learning/blob/main/TakeHome1.ipynb\" target=\"_parent\"><img src=\"https://colab.research.google.com/assets/colab-badge.svg\" alt=\"Open In Colab\"/></a>"
      ]
    },
    {
      "cell_type": "markdown",
      "source": [
        "#### Checking for nvidia"
      ],
      "metadata": {
        "id": "JemXfKcrACnZ"
      }
    },
    {
      "cell_type": "code",
      "source": [
        "!nvidia-smi"
      ],
      "metadata": {
        "id": "7MnfZeWY86wJ"
      },
      "execution_count": null,
      "outputs": []
    },
    {
      "cell_type": "markdown",
      "source": [
        "#### Cloning the code from repo"
      ],
      "metadata": {
        "id": "m_aPNXW3AFPU"
      }
    },
    {
      "cell_type": "code",
      "execution_count": null,
      "metadata": {
        "colab": {
          "base_uri": "https://localhost:8080/"
        },
        "id": "Uxbg8o7py-D4",
        "outputId": "3a348006-23c1-4510-e7d2-799ca9c1e679"
      },
      "outputs": [
        {
          "output_type": "stream",
          "name": "stdout",
          "text": [
            "Cloning into 'SemiFL-Semi-Supervised-Federated-Learning-for-Unlabeled-Clients-with-Alternate-Training'...\n",
            "remote: Enumerating objects: 977, done.\u001b[K\n",
            "remote: Counting objects: 100% (126/126), done.\u001b[K\n",
            "remote: Compressing objects: 100% (98/98), done.\u001b[K\n",
            "remote: Total 977 (delta 56), reused 86 (delta 28), pack-reused 851\u001b[K\n",
            "Receiving objects: 100% (977/977), 56.71 MiB | 29.43 MiB/s, done.\n",
            "Resolving deltas: 100% (644/644), done.\n"
          ]
        }
      ],
      "source": [
        "!git clone https://github.com/diaoenmao/SemiFL-Semi-Supervised-Federated-Learning-for-Unlabeled-Clients-with-Alternate-Training.git"
      ]
    },
    {
      "cell_type": "code",
      "source": [
        "%cd SemiFL-Semi-Supervised-Federated-Learning-for-Unlabeled-Clients-with-Alternate-Training"
      ],
      "metadata": {
        "colab": {
          "base_uri": "https://localhost:8080/"
        },
        "id": "YyT5g5NDzSFY",
        "outputId": "53ae05ae-91ac-4a31-8670-c0d25ee1f082"
      },
      "execution_count": null,
      "outputs": [
        {
          "output_type": "stream",
          "name": "stdout",
          "text": [
            "/content/SemiFL-Semi-Supervised-Federated-Learning-for-Unlabeled-Clients-with-Alternate-Training\n"
          ]
        }
      ]
    },
    {
      "cell_type": "markdown",
      "source": [
        "#### Installing requirements"
      ],
      "metadata": {
        "id": "6UX5y0UUAIxo"
      }
    },
    {
      "cell_type": "markdown",
      "source": [
        "pandas == 1.1.3\n",
        "\n",
        "pyyaml==5.4.1 faced issue installing.\n"
      ],
      "metadata": {
        "id": "rvH-U588AKVn"
      }
    },
    {
      "cell_type": "code",
      "source": [
        "!pip install \"cython\" && pip install --no-build-isolation pyyaml==5.4.1"
      ],
      "metadata": {
        "colab": {
          "base_uri": "https://localhost:8080/"
        },
        "id": "5odKFbkM0btU",
        "outputId": "dc4de0dd-9717-43af-b1df-9ae46c749117"
      },
      "execution_count": null,
      "outputs": [
        {
          "output_type": "stream",
          "name": "stdout",
          "text": [
            "Requirement already satisfied: cython in /usr/local/lib/python3.10/dist-packages (0.29.37)\n",
            "Requirement already satisfied: pyyaml==5.4.1 in /usr/local/lib/python3.10/dist-packages (5.4.1)\n"
          ]
        }
      ]
    },
    {
      "cell_type": "code",
      "source": [
        "!pip install -r requirements.txt"
      ],
      "metadata": {
        "colab": {
          "base_uri": "https://localhost:8080/"
        },
        "id": "wD0bQ89wzO4s",
        "outputId": "97a9d5b4-d68a-4178-dfb5-90b800cc1271"
      },
      "execution_count": null,
      "outputs": [
        {
          "output_type": "stream",
          "name": "stdout",
          "text": [
            "Collecting Pillow==8.2.0 (from -r requirements.txt (line 1))\n",
            "  Using cached Pillow-8.2.0.tar.gz (47.9 MB)\n",
            "  Preparing metadata (setup.py) ... \u001b[?25l\u001b[?25hdone\n",
            "Collecting anytree==2.8.0 (from -r requirements.txt (line 2))\n",
            "  Using cached anytree-2.8.0-py2.py3-none-any.whl (41 kB)\n",
            "Collecting matplotlib==3.3.2 (from -r requirements.txt (line 3))\n",
            "  Using cached matplotlib-3.3.2.tar.gz (37.9 MB)\n",
            "  Preparing metadata (setup.py) ... \u001b[?25l\u001b[?25hdone\n",
            "Collecting numpy==1.20.1 (from -r requirements.txt (line 4))\n",
            "  Using cached numpy-1.20.1.zip (7.8 MB)\n",
            "  Installing build dependencies ... \u001b[?25l\u001b[?25hdone\n",
            "  Getting requirements to build wheel ... \u001b[?25l\u001b[?25hdone\n",
            "  Preparing metadata (pyproject.toml) ... \u001b[?25l\u001b[?25hdone\n",
            "Collecting six==1.15.0 (from -r requirements.txt (line 5))\n",
            "  Using cached six-1.15.0-py2.py3-none-any.whl (10 kB)\n",
            "Collecting tabulate==0.8.7 (from -r requirements.txt (line 6))\n",
            "  Using cached tabulate-0.8.7-py3-none-any.whl (24 kB)\n",
            "\u001b[31mERROR: Could not find a version that satisfies the requirement torchvision==0.9.1 (from versions: 0.1.6, 0.1.7, 0.1.8, 0.1.9, 0.2.0, 0.2.1, 0.2.2, 0.2.2.post2, 0.2.2.post3, 0.12.0, 0.13.0, 0.13.1, 0.14.0, 0.14.1, 0.15.0, 0.15.1, 0.15.2, 0.16.0, 0.16.1, 0.16.2, 0.17.0, 0.17.1, 0.17.2, 0.18.0)\u001b[0m\u001b[31m\n",
            "\u001b[0m\u001b[31mERROR: No matching distribution found for torchvision==0.9.1\u001b[0m\u001b[31m\n",
            "\u001b[0m"
          ]
        }
      ]
    },
    {
      "cell_type": "code",
      "source": [
        "!pip install scipy==1.9.0\n"
      ],
      "metadata": {
        "colab": {
          "base_uri": "https://localhost:8080/",
          "height": 474
        },
        "id": "i6P9t-HxCD84",
        "outputId": "f3e82c8a-45b2-4073-d68c-b65b7cadd8bc"
      },
      "execution_count": null,
      "outputs": [
        {
          "output_type": "stream",
          "name": "stdout",
          "text": [
            "Collecting scipy==1.9.0\n",
            "  Downloading scipy-1.9.0-cp310-cp310-manylinux_2_17_x86_64.manylinux2014_x86_64.whl (43.9 MB)\n",
            "\u001b[2K     \u001b[90m━━━━━━━━━━━━━━━━━━━━━━━━━━━━━━━━━━━━━━━━\u001b[0m \u001b[32m43.9/43.9 MB\u001b[0m \u001b[31m36.6 MB/s\u001b[0m eta \u001b[36m0:00:00\u001b[0m\n",
            "\u001b[?25hCollecting numpy<1.25.0,>=1.18.5 (from scipy==1.9.0)\n",
            "  Downloading numpy-1.24.4-cp310-cp310-manylinux_2_17_x86_64.manylinux2014_x86_64.whl (17.3 MB)\n",
            "\u001b[2K     \u001b[90m━━━━━━━━━━━━━━━━━━━━━━━━━━━━━━━━━━━━━━━━\u001b[0m \u001b[32m17.3/17.3 MB\u001b[0m \u001b[31m79.0 MB/s\u001b[0m eta \u001b[36m0:00:00\u001b[0m\n",
            "\u001b[?25hInstalling collected packages: numpy, scipy\n",
            "  Attempting uninstall: numpy\n",
            "    Found existing installation: numpy 1.25.2\n",
            "    Uninstalling numpy-1.25.2:\n",
            "      Successfully uninstalled numpy-1.25.2\n",
            "  Attempting uninstall: scipy\n",
            "    Found existing installation: scipy 1.11.4\n",
            "    Uninstalling scipy-1.11.4:\n",
            "      Successfully uninstalled scipy-1.11.4\n",
            "\u001b[31mERROR: pip's dependency resolver does not currently take into account all the packages that are installed. This behaviour is the source of the following dependency conflicts.\n",
            "pandas-stubs 2.0.3.230814 requires numpy>=1.25.0; python_version >= \"3.9\", but you have numpy 1.24.4 which is incompatible.\n",
            "torchtext 0.17.1 requires torch==2.2.1, but you have torch 1.11.0 which is incompatible.\u001b[0m\u001b[31m\n",
            "\u001b[0mSuccessfully installed numpy-1.24.4 scipy-1.9.0\n"
          ]
        },
        {
          "output_type": "display_data",
          "data": {
            "application/vnd.colab-display-data+json": {
              "pip_warning": {
                "packages": [
                  "numpy"
                ]
              },
              "id": "74ff0ca5842f49bd93ca0b6db854f129"
            }
          },
          "metadata": {}
        }
      ]
    },
    {
      "cell_type": "code",
      "source": [
        "!pip install torchvision\n"
      ],
      "metadata": {
        "colab": {
          "base_uri": "https://localhost:8080/"
        },
        "id": "1eO8c986Cm3x",
        "outputId": "5a2e3ef2-73f0-4e77-a117-9f52a502fbc4"
      },
      "execution_count": null,
      "outputs": [
        {
          "output_type": "stream",
          "name": "stdout",
          "text": [
            "Requirement already satisfied: torchvision in /usr/local/lib/python3.10/dist-packages (0.12.0)\n",
            "Requirement already satisfied: typing-extensions in /usr/local/lib/python3.10/dist-packages (from torchvision) (4.11.0)\n",
            "Requirement already satisfied: numpy in /usr/local/lib/python3.10/dist-packages (from torchvision) (1.24.4)\n",
            "Requirement already satisfied: requests in /usr/local/lib/python3.10/dist-packages (from torchvision) (2.31.0)\n",
            "Requirement already satisfied: torch==1.11.0 in /usr/local/lib/python3.10/dist-packages (from torchvision) (1.11.0)\n",
            "Requirement already satisfied: pillow!=8.3.*,>=5.3.0 in /usr/local/lib/python3.10/dist-packages (from torchvision) (9.4.0)\n",
            "Requirement already satisfied: charset-normalizer<4,>=2 in /usr/local/lib/python3.10/dist-packages (from requests->torchvision) (3.3.2)\n",
            "Requirement already satisfied: idna<4,>=2.5 in /usr/local/lib/python3.10/dist-packages (from requests->torchvision) (3.7)\n",
            "Requirement already satisfied: urllib3<3,>=1.21.1 in /usr/local/lib/python3.10/dist-packages (from requests->torchvision) (2.0.7)\n",
            "Requirement already satisfied: certifi>=2017.4.17 in /usr/local/lib/python3.10/dist-packages (from requests->torchvision) (2024.2.2)\n"
          ]
        }
      ]
    },
    {
      "cell_type": "markdown",
      "source": [
        "#### Adding the path"
      ],
      "metadata": {
        "id": "Ilj84Am8DXQ5"
      }
    },
    {
      "cell_type": "code",
      "source": [
        "import os"
      ],
      "metadata": {
        "id": "pz9my7VrDVpQ"
      },
      "execution_count": null,
      "outputs": []
    },
    {
      "cell_type": "code",
      "source": [
        "! echo $PYTHONPATH\n"
      ],
      "metadata": {
        "colab": {
          "base_uri": "https://localhost:8080/"
        },
        "id": "eESP-n83DcFf",
        "outputId": "2cb3a9a5-2bde-4f72-b3dc-7ac745bfbd07"
      },
      "execution_count": null,
      "outputs": [
        {
          "output_type": "stream",
          "name": "stdout",
          "text": [
            "/env/python\n"
          ]
        }
      ]
    },
    {
      "cell_type": "code",
      "source": [
        "os.environ['PYTHONPATH'] += \":/content/SemiFL/\"\n",
        "os.environ['PYTHONPATH'] += \":/content/SemiFL/src/\""
      ],
      "metadata": {
        "id": "J8pCDqqk8rAF"
      },
      "execution_count": null,
      "outputs": []
    },
    {
      "cell_type": "code",
      "source": [
        "! echo $PYTHONPATH"
      ],
      "metadata": {
        "colab": {
          "base_uri": "https://localhost:8080/"
        },
        "id": "J3--CDekDdzI",
        "outputId": "533afb8e-610b-42c7-8a02-984401ef916f"
      },
      "execution_count": null,
      "outputs": [
        {
          "output_type": "stream",
          "name": "stdout",
          "text": [
            "/env/python:/content/SemiFL:/content/SemiFL/src:/content/SemiFL/:/content/SemiFL/src/\n"
          ]
        }
      ]
    },
    {
      "cell_type": "code",
      "source": [
        "import os\n",
        "import sys\n",
        "\n",
        "# Get the current working directory\n",
        "current_dir = os.getcwd()\n",
        "\n"
      ],
      "metadata": {
        "id": "JC_AO7KgED9l"
      },
      "execution_count": null,
      "outputs": []
    },
    {
      "cell_type": "code",
      "source": [
        "current_dir"
      ],
      "metadata": {
        "colab": {
          "base_uri": "https://localhost:8080/",
          "height": 35
        },
        "id": "X_IDdo5gEHQg",
        "outputId": "fbdc30ef-5abd-4ab2-eaa1-7d9072c2d07e"
      },
      "execution_count": null,
      "outputs": [
        {
          "output_type": "execute_result",
          "data": {
            "text/plain": [
              "'/content'"
            ],
            "application/vnd.google.colaboratory.intrinsic+json": {
              "type": "string"
            }
          },
          "metadata": {},
          "execution_count": 16
        }
      ]
    },
    {
      "cell_type": "code",
      "source": [
        "# Append the path to your script's directory\n",
        "script_dir = os.path.join(current_dir, 'SemiFL', 'src',)\n",
        "sys.path.append(script_dir)"
      ],
      "metadata": {
        "id": "A5NEZwvhEGQw"
      },
      "execution_count": null,
      "outputs": []
    },
    {
      "cell_type": "code",
      "source": [
        "print(sys.path)\n"
      ],
      "metadata": {
        "colab": {
          "base_uri": "https://localhost:8080/"
        },
        "id": "BdkS7IirE_PE",
        "outputId": "99f53a49-7a9e-4f20-8755-b70e4a253167"
      },
      "execution_count": null,
      "outputs": [
        {
          "output_type": "stream",
          "name": "stdout",
          "text": [
            "['/content', '/env/python', '/usr/lib/python310.zip', '/usr/lib/python3.10', '/usr/lib/python3.10/lib-dynload', '', '/usr/local/lib/python3.10/dist-packages', '/usr/lib/python3/dist-packages', '/usr/local/lib/python3.10/dist-packages/IPython/extensions', '/root/.ipython', '/content/SemiFL/src']\n"
          ]
        }
      ]
    },
    {
      "cell_type": "code",
      "source": [
        "!pip install anytree"
      ],
      "metadata": {
        "colab": {
          "base_uri": "https://localhost:8080/"
        },
        "id": "QUMSEvcOFojI",
        "outputId": "9f882292-7958-4528-eff7-b3708d94daa9"
      },
      "execution_count": null,
      "outputs": [
        {
          "output_type": "stream",
          "name": "stdout",
          "text": [
            "Collecting anytree\n",
            "  Downloading anytree-2.12.1-py3-none-any.whl (44 kB)\n",
            "\u001b[?25l     \u001b[90m━━━━━━━━━━━━━━━━━━━━━━━━━━━━━━━━━━━━━━━━\u001b[0m \u001b[32m0.0/44.9 kB\u001b[0m \u001b[31m?\u001b[0m eta \u001b[36m-:--:--\u001b[0m\r\u001b[2K     \u001b[90m━━━━━━━━━━━━━━━━━━━━━━━━━━━━━━━━━━━━━━━━\u001b[0m \u001b[32m44.9/44.9 kB\u001b[0m \u001b[31m2.1 MB/s\u001b[0m eta \u001b[36m0:00:00\u001b[0m\n",
            "\u001b[?25hRequirement already satisfied: six in /usr/local/lib/python3.10/dist-packages (from anytree) (1.16.0)\n",
            "Installing collected packages: anytree\n",
            "Successfully installed anytree-2.12.1\n"
          ]
        }
      ]
    },
    {
      "cell_type": "code",
      "source": [
        "!python SemiFL/src/train_classifier_ssfl.py --data_name CIFAR10 --model_name wresnet28x2 --control_name 250_fix@0.95-mix_100_0.1_non-iid-l-2_5-5_0.5_1_1\n"
      ],
      "metadata": {
        "id": "NJD_tPPxzXAi",
        "colab": {
          "base_uri": "https://localhost:8080/"
        },
        "outputId": "b9493b2a-a9ca-4784-a1e0-51c96b780fa7"
      },
      "execution_count": null,
      "outputs": [
        {
          "output_type": "stream",
          "name": "stdout",
          "text": [
            "Experiment: 0_CIFAR10_wresnet28x2_250_fix@0.95-mix_100_0.1_non-iid-l-2_5-5_0.5_1_1\n",
            "fetching data CIFAR10...\n",
            "Downloading https://www.cs.toronto.edu/~kriz/cifar-10-python.tar.gz to ./data/CIFAR10/raw/cifar-10-python.tar.gz\n",
            "100% 170M/170M [00:06<00:00, 30.3MB/s]Extracting ./data/CIFAR10/raw/cifar-10-python.tar.gz\n",
            "171MB [00:10, 16.3MB/s]               \n",
            "data ready\n",
            "fetching data CIFAR10...\n",
            "data ready\n",
            "2024-04-30 03:40:31.554364: E external/local_xla/xla/stream_executor/cuda/cuda_dnn.cc:9261] Unable to register cuDNN factory: Attempting to register factory for plugin cuDNN when one has already been registered\n",
            "2024-04-30 03:40:31.554420: E external/local_xla/xla/stream_executor/cuda/cuda_fft.cc:607] Unable to register cuFFT factory: Attempting to register factory for plugin cuFFT when one has already been registered\n",
            "2024-04-30 03:40:31.555819: E external/local_xla/xla/stream_executor/cuda/cuda_blas.cc:1515] Unable to register cuBLAS factory: Attempting to register factory for plugin cuBLAS when one has already been registered\n",
            "2024-04-30 03:40:31.562867: I tensorflow/core/platform/cpu_feature_guard.cc:182] This TensorFlow binary is optimized to use available CPU instructions in performance-critical operations.\n",
            "To enable the following instructions: AVX2 AVX512F FMA, in other operations, rebuild TensorFlow with the appropriate compiler flags.\n",
            "2024-04-30 03:40:32.687974: W tensorflow/compiler/tf2tensorrt/utils/py_utils.cc:38] TF-TRT Warning: Could not find TensorRT\n",
            "Model: 0_CIFAR10_wresnet28x2_250_fix@0.95-mix_100_0.1_non-iid-l-2_5-5_0.5_1_1  Train Epoch (C): 1(0%)  Loss: 0.0000  Accuracy: 0.0000  PAccuracy: 0.0000  MAccuracy: 0.0000  LabelRatio: 0.0000  Learning rate: 0.030000  ID: 16(1/10)  Epoch Finished Time: 0:00:09.020486  Experiment Finished Time: 2:13:37.020486\n",
            "Model: 0_CIFAR10_wresnet28x2_250_fix@0.95-mix_100_0.1_non-iid-l-2_5-5_0.5_1_1  Train Epoch (C): 1(30%)  Loss: 0.0000  Accuracy: 0.0000  PAccuracy: 0.0000  MAccuracy: 0.0000  LabelRatio: 0.0000  Learning rate: 0.030000  ID: 30(4/10)  Epoch Finished Time: 0:00:05.448073  Experiment Finished Time: 2:01:00.448073\n",
            "Model: 0_CIFAR10_wresnet28x2_250_fix@0.95-mix_100_0.1_non-iid-l-2_5-5_0.5_1_1  Train Epoch (C): 1(60%)  Loss: 0.0000  Accuracy: 0.0000  PAccuracy: 7.3787  MAccuracy: 0.0000  LabelRatio: 0.0000  Learning rate: 0.030000  ID: 99(7/10)  Epoch Finished Time: 0:00:02.677706  Experiment Finished Time: 1:58:54.677706\n",
            "Model: 0_CIFAR10_wresnet28x2_250_fix@0.95-mix_100_0.1_non-iid-l-2_5-5_0.5_1_1  Train Epoch (C): 1(90%)  Loss: 0.0000  Accuracy: 0.0000  PAccuracy: 10.3095  MAccuracy: 0.0000  LabelRatio: 0.0000  Learning rate: 0.030000  ID: 35(10/10)  Epoch Finished Time: 0:00:00  Experiment Finished Time: 1:58:33\n",
            "Model: 0_CIFAR10_wresnet28x2_250_fix@0.95-mix_100_0.1_non-iid-l-2_5-5_0.5_1_1  Train Epoch (S): 1(100%)  Loss: 2.0515  Accuracy: 21.2800  PAccuracy: 0.0000  MAccuracy: 0.0000  LabelRatio: 0.0000  Learning rate: 0.030000  Epoch Finished Time: 0:36:01\n",
            "/usr/local/lib/python3.10/dist-packages/torch/optim/lr_scheduler.py:131: UserWarning: Detected call of `lr_scheduler.step()` before `optimizer.step()`. In PyTorch 1.1.0 and later, you should call them in the opposite order: `optimizer.step()` before `lr_scheduler.step()`.  Failure to do this will result in PyTorch skipping the first value of the learning rate schedule. See more details at https://pytorch.org/docs/stable/optim.html#how-to-adjust-learning-rate\n",
            "  warnings.warn(\"Detected call of `lr_scheduler.step()` before `optimizer.step()`. \"\n",
            "Model: 0_CIFAR10_wresnet28x2_250_fix@0.95-mix_100_0.1_non-iid-l-2_5-5_0.5_1_1  Test Epoch: 1(100%)  Loss: 1.9993  Accuracy: 25.4100\n",
            "Model: 0_CIFAR10_wresnet28x2_250_fix@0.95-mix_100_0.1_non-iid-l-2_5-5_0.5_1_1  Train Epoch (C): 2(0%)  Loss: 4.9785  Accuracy: 30.0000  PAccuracy: 13.2797  MAccuracy: 0.0000  LabelRatio: 0.0121  Learning rate: 0.030000  ID: 66(1/10)  Epoch Finished Time: 0:00:10.504681  Experiment Finished Time: 2:35:24.504681\n",
            "Model: 0_CIFAR10_wresnet28x2_250_fix@0.95-mix_100_0.1_non-iid-l-2_5-5_0.5_1_1  Train Epoch (C): 2(30%)  Loss: 4.9234  Accuracy: 27.5000  PAccuracy: 18.9040  MAccuracy: 0.0000  LabelRatio: 0.0040  Learning rate: 0.030000  ID: 92(4/10)  Epoch Finished Time: 0:00:06.158069  Experiment Finished Time: 2:16:36.158069\n",
            "Model: 0_CIFAR10_wresnet28x2_250_fix@0.95-mix_100_0.1_non-iid-l-2_5-5_0.5_1_1  Train Epoch (C): 2(60%)  Loss: 4.9234  Accuracy: 27.5000  PAccuracy: 14.3596  MAccuracy: 0.0000  LabelRatio: 0.0023  Learning rate: 0.030000  ID: 30(7/10)  Epoch Finished Time: 0:00:02.920196  Experiment Finished Time: 2:09:30.920196\n",
            "Model: 0_CIFAR10_wresnet28x2_250_fix@0.95-mix_100_0.1_non-iid-l-2_5-5_0.5_1_1  Train Epoch (C): 2(90%)  Loss: 4.4428  Accuracy: 40.0000  PAccuracy: 18.0503  MAccuracy: 19.0191  LabelRatio: 0.0066  Learning rate: 0.030000  ID: 37(10/10)  Epoch Finished Time: 0:00:00  Experiment Finished Time: 2:20:49\n",
            "Model: 0_CIFAR10_wresnet28x2_250_fix@0.95-mix_100_0.1_non-iid-l-2_5-5_0.5_1_1  Train Epoch (S): 2(100%)  Loss: 1.8044  Accuracy: 31.6000  PAccuracy: 0.0000  MAccuracy: 0.0000  LabelRatio: 0.0000  Learning rate: 0.030000  Epoch Finished Time: 0:37:15\n",
            "Model: 0_CIFAR10_wresnet28x2_250_fix@0.95-mix_100_0.1_non-iid-l-2_5-5_0.5_1_1  Test Epoch: 2(100%)  Loss: 1.8736  Accuracy: 30.9200\n",
            "Model: 0_CIFAR10_wresnet28x2_250_fix@0.95-mix_100_0.1_non-iid-l-2_5-5_0.5_1_1  Train Epoch (C): 3(0%)  Loss: 5.7815  Accuracy: 25.0000  PAccuracy: 28.1125  MAccuracy: 0.0000  LabelRatio: 0.0080  Learning rate: 0.030000  ID: 44(1/10)  Epoch Finished Time: 0:00:10.736492  Experiment Finished Time: 2:38:38.736492\n",
            "Model: 0_CIFAR10_wresnet28x2_250_fix@0.95-mix_100_0.1_non-iid-l-2_5-5_0.5_1_1  Train Epoch (C): 3(30%)  Loss: 5.3982  Accuracy: 26.6667  PAccuracy: 28.7293  MAccuracy: 12.5063  LabelRatio: 0.0045  Learning rate: 0.030000  ID: 77(4/10)  Epoch Finished Time: 0:00:06.557367  Experiment Finished Time: 2:25:16.557367\n",
            "Model: 0_CIFAR10_wresnet28x2_250_fix@0.95-mix_100_0.1_non-iid-l-2_5-5_0.5_1_1  Train Epoch (C): 3(60%)  Loss: 5.4109  Accuracy: 28.0000  PAccuracy: 25.5026  MAccuracy: 7.1511  LabelRatio: 0.0057  Learning rate: 0.030000  ID: 71(7/10)  Epoch Finished Time: 0:00:03.437602  Experiment Finished Time: 2:32:16.437602\n",
            "Model: 0_CIFAR10_wresnet28x2_250_fix@0.95-mix_100_0.1_non-iid-l-2_5-5_0.5_1_1  Train Epoch (C): 3(90%)  Loss: 5.2688  Accuracy: 33.6000  PAccuracy: 25.8246  MAccuracy: 14.9839  LabelRatio: 0.0050  Learning rate: 0.030000  ID: 86(10/10)  Epoch Finished Time: 0:00:00  Experiment Finished Time: 2:31:25\n",
            "Model: 0_CIFAR10_wresnet28x2_250_fix@0.95-mix_100_0.1_non-iid-l-2_5-5_0.5_1_1  Train Epoch (S): 3(100%)  Loss: 1.6293  Accuracy: 38.7200  PAccuracy: 0.0000  MAccuracy: 0.0000  LabelRatio: 0.0000  Learning rate: 0.030000  Epoch Finished Time: 0:40:21\n",
            "Model: 0_CIFAR10_wresnet28x2_250_fix@0.95-mix_100_0.1_non-iid-l-2_5-5_0.5_1_1  Test Epoch: 3(100%)  Loss: 1.8769  Accuracy: 33.1500\n",
            "Model: 0_CIFAR10_wresnet28x2_250_fix@0.95-mix_100_0.1_non-iid-l-2_5-5_0.5_1_1  Train Epoch (C): 4(0%)  Loss: 4.8709  Accuracy: 30.0000  PAccuracy: 38.5542  MAccuracy: 87.5000  LabelRatio: 0.0161  Learning rate: 0.029999  ID: 74(1/10)  Epoch Finished Time: 0:00:10.719489  Experiment Finished Time: 2:38:11.719489\n",
            "Model: 0_CIFAR10_wresnet28x2_250_fix@0.95-mix_100_0.1_non-iid-l-2_5-5_0.5_1_1  Train Epoch (C): 4(30%)  Loss: 4.4661  Accuracy: 44.3478  PAccuracy: 27.7387  MAccuracy: 45.0879  LabelRatio: 0.0116  Learning rate: 0.029999  ID: 96(4/10)  Epoch Finished Time: 0:00:06.882612  Experiment Finished Time: 2:32:17.882612\n",
            "Model: 0_CIFAR10_wresnet28x2_250_fix@0.95-mix_100_0.1_non-iid-l-2_5-5_0.5_1_1  Train Epoch (C): 4(60%)  Loss: 4.0442  Accuracy: 54.6939  PAccuracy: 26.3642  MAccuracy: 39.4744  LabelRatio: 0.0141  Learning rate: 0.029999  ID: 11(7/10)  Epoch Finished Time: 0:00:03.532398  Experiment Finished Time: 2:36:16.532398\n",
            "Model: 0_CIFAR10_wresnet28x2_250_fix@0.95-mix_100_0.1_non-iid-l-2_5-5_0.5_1_1  Train Epoch (C): 4(90%)  Loss: 4.1000  Accuracy: 52.6316  PAccuracy: 25.9148  MAccuracy: 27.6337  LabelRatio: 0.0115  Learning rate: 0.029999  ID: 62(10/10)  Epoch Finished Time: 0:00:00  Experiment Finished Time: 2:30:37\n",
            "Model: 0_CIFAR10_wresnet28x2_250_fix@0.95-mix_100_0.1_non-iid-l-2_5-5_0.5_1_1  Train Epoch (S): 4(100%)  Loss: 1.4411  Accuracy: 48.2400  PAccuracy: 0.0000  MAccuracy: 0.0000  LabelRatio: 0.0000  Learning rate: 0.029999  Epoch Finished Time: 0:36:55\n",
            "Model: 0_CIFAR10_wresnet28x2_250_fix@0.95-mix_100_0.1_non-iid-l-2_5-5_0.5_1_1  Test Epoch: 4(100%)  Loss: 1.8623  Accuracy: 35.8900\n",
            "Model: 0_CIFAR10_wresnet28x2_250_fix@0.95-mix_100_0.1_non-iid-l-2_5-5_0.5_1_1  Train Epoch (C): 5(0%)  Loss: 3.1380  Accuracy: 70.2857  PAccuracy: 37.2233  MAccuracy: 85.7143  LabelRatio: 0.0704  Learning rate: 0.029998  ID: 45(1/10)  Epoch Finished Time: 0:00:19.040337  Experiment Finished Time: 4:40:38.040337\n",
            "Model: 0_CIFAR10_wresnet28x2_250_fix@0.95-mix_100_0.1_non-iid-l-2_5-5_0.5_1_1  Train Epoch (C): 5(30%)  Loss: 3.4614  Accuracy: 67.0476  PAccuracy: 40.6439  MAccuracy: 70.7545  LabelRatio: 0.0528  Learning rate: 0.029998  ID: 69(4/10)  Epoch Finished Time: 0:00:10.284545  Experiment Finished Time: 3:47:17.284545\n",
            "Model: 0_CIFAR10_wresnet28x2_250_fix@0.95-mix_100_0.1_non-iid-l-2_5-5_0.5_1_1  Train Epoch (C): 5(60%)  Loss: 3.6277  Accuracy: 62.0312  PAccuracy: 35.8518  MAccuracy: 40.4079  LabelRatio: 0.0368  Learning rate: 0.029998  ID: 83(7/10)  Epoch Finished Time: 0:00:04.373671  Experiment Finished Time: 3:13:14.373671\n",
            "Model: 0_CIFAR10_wresnet28x2_250_fix@0.95-mix_100_0.1_non-iid-l-2_5-5_0.5_1_1  Train Epoch (C): 5(90%)  Loss: 3.1273  Accuracy: 68.9109  PAccuracy: 36.1078  MAccuracy: 38.2911  LabelRatio: 0.0406  Learning rate: 0.029998  ID: 11(10/10)  Epoch Finished Time: 0:00:00  Experiment Finished Time: 3:24:49\n",
            "Model: 0_CIFAR10_wresnet28x2_250_fix@0.95-mix_100_0.1_non-iid-l-2_5-5_0.5_1_1  Train Epoch (S): 5(100%)  Loss: 1.3235  Accuracy: 52.2400  PAccuracy: 0.0000  MAccuracy: 0.0000  LabelRatio: 0.0000  Learning rate: 0.029998  Epoch Finished Time: 0:38:42\n",
            "Model: 0_CIFAR10_wresnet28x2_250_fix@0.95-mix_100_0.1_non-iid-l-2_5-5_0.5_1_1  Test Epoch: 5(100%)  Loss: 1.9394  Accuracy: 35.4800\n",
            "\n",
            "^C\n"
          ]
        }
      ]
    }
  ]
}